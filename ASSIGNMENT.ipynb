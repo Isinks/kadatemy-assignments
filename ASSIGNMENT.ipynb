{
 "cells": [
  {
   "cell_type": "markdown",
   "id": "633635fc",
   "metadata": {},
   "source": [
    "__Solution to the assignment__"
   ]
  },
  {
   "cell_type": "code",
   "execution_count": 1,
   "id": "f6577630",
   "metadata": {},
   "outputs": [
    {
     "name": "stdout",
     "output_type": "stream",
     "text": [
      "welcome to kadatemy, please tell us your firstname\n",
      "Isinkaiye\n",
      "Thank you, please tell us your last name\n",
      "Adetutu\n",
      "please proceed to the next stage, kindly insert your email\n",
      "isinkaiyeadetutu@gmail.com\n",
      "one last thing! please choose a password of your choice preferrably letters and numbers\n",
      "adet2t2\n",
      "thank you for choosing kadatemy\n"
     ]
    }
   ],
   "source": [
    "print(\"welcome to kadatemy, please tell us your firstname\")\n",
    "#using input with a specific data type\n",
    "\n",
    "firstname = str(input())\n",
    "print(\"Thank you, please tell us your last name\")\n",
    "\n",
    "lastname = str(input())\n",
    "print(\"please proceed to the next stage, kindly insert your email\")\n",
    "\n",
    "email = str(input())\n",
    "print(\"one last thing! please choose a password of your choice preferrably letters and numbers\")\n",
    "\n",
    "password = str(input())\n",
    "print(\"thank you for choosing kadatemy\")\n"
   ]
  },
  {
   "cell_type": "code",
   "execution_count": null,
   "id": "b1bdc3e1",
   "metadata": {},
   "outputs": [],
   "source": []
  },
  {
   "cell_type": "code",
   "execution_count": null,
   "id": "20d0fa21",
   "metadata": {},
   "outputs": [],
   "source": []
  }
 ],
 "metadata": {
  "kernelspec": {
   "display_name": "Python 3",
   "language": "python",
   "name": "python3"
  },
  "language_info": {
   "codemirror_mode": {
    "name": "ipython",
    "version": 3
   },
   "file_extension": ".py",
   "mimetype": "text/x-python",
   "name": "python",
   "nbconvert_exporter": "python",
   "pygments_lexer": "ipython3",
   "version": "3.8.8"
  }
 },
 "nbformat": 4,
 "nbformat_minor": 5
}
