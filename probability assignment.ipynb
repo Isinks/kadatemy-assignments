{
 "cells": [
  {
   "cell_type": "code",
   "execution_count": 3,
   "id": "dda25593",
   "metadata": {},
   "outputs": [
    {
     "data": {
      "text/plain": [
       "0.03636363636363636"
      ]
     },
     "execution_count": 3,
     "metadata": {},
     "output_type": "execute_result"
    }
   ],
   "source": [
    "# total no of pens is 11\n",
    "#probability of drawing 1 blue pen is 4/11\n",
    "#After drawing one pen, the number of pens are 10\n",
    "#probability of drawing 1 blue pen is 3/10\n",
    "#After drawing one pen, the number of pens are 9\n",
    "#probability of drawing 1 blue pen is 3/9\n",
    "(4/11)*(3/10)*(3/9)"
   ]
  },
  {
   "cell_type": "code",
   "execution_count": 4,
   "id": "08827c5b",
   "metadata": {},
   "outputs": [
    {
     "data": {
      "text/plain": [
       "0.14285714285714285"
      ]
     },
     "execution_count": 4,
     "metadata": {},
     "output_type": "execute_result"
    }
   ],
   "source": [
    "#total number of fruits =8\n",
    "#probability of choosing one mango is 4/8 = 1/2\n",
    "#After taking one mango, the total no of fruits is 7 and mango 3\n",
    "#probability of choosing one mango is 3/7 \n",
    "#After taking another mango, the total no of fruits is 6\n",
    "#probability of choosing one orange is 4/6 = 2/3\n",
    "\n",
    "1/2*3/7*2/3\n",
    "\n",
    "\n"
   ]
  },
  {
   "cell_type": "code",
   "execution_count": 13,
   "id": "b4ade3a5",
   "metadata": {},
   "outputs": [
    {
     "data": {
      "text/plain": [
       "0.4"
      ]
     },
     "execution_count": 13,
     "metadata": {},
     "output_type": "execute_result"
    }
   ],
   "source": [
    "#let the variable 'B' and 'R' represent the drawing of a blue and red ball respectively, while P represent probability ie\n",
    "PBR = 0.2\n",
    "PB = 0.5\n",
    "#The probability of drawing a red ball given that the first ball drawn was blue\n",
    "PR = PBR/PB\n",
    "PR"
   ]
  },
  {
   "cell_type": "code",
   "execution_count": null,
   "id": "e5a62de4",
   "metadata": {},
   "outputs": [],
   "source": []
  }
 ],
 "metadata": {
  "kernelspec": {
   "display_name": "Python 3",
   "language": "python",
   "name": "python3"
  },
  "language_info": {
   "codemirror_mode": {
    "name": "ipython",
    "version": 3
   },
   "file_extension": ".py",
   "mimetype": "text/x-python",
   "name": "python",
   "nbconvert_exporter": "python",
   "pygments_lexer": "ipython3",
   "version": "3.8.8"
  }
 },
 "nbformat": 4,
 "nbformat_minor": 5
}
