{
 "cells": [
  {
   "cell_type": "code",
   "execution_count": 1,
   "id": "9ad7f4be",
   "metadata": {},
   "outputs": [
    {
     "name": "stdout",
     "output_type": "stream",
     "text": [
      "\n",
      "Blank: \n",
      "[]\n",
      "\n",
      "List after addition of elements is :  [6, 8, 10]\n"
     ]
    }
   ],
   "source": [
    "#creating a list\n",
    "list = []\n",
    "print(\"\\nBlank: \")\n",
    "print(list)\n",
    "\n",
    "#addition of element to the list (element is usually added at the beginning)\n",
    "list.append(6)\n",
    "list.append(8)\n",
    "list.append(10)\n",
    "print(\"\\nList after addition of elements is : \", list)"
   ]
  },
  {
   "cell_type": "code",
   "execution_count": 2,
   "id": "fb84210b",
   "metadata": {},
   "outputs": [
    {
     "name": "stdout",
     "output_type": "stream",
     "text": [
      "('handle', 'cars', 'jobs', 'proper', 'father', 1, 2, 'building', 'answer')\n"
     ]
    }
   ],
   "source": [
    "#concatenating of tuples\n",
    "tup1 = (\"handle\", \"cars\", \"jobs\", \"proper\")\n",
    "tup2 = (\"father\", 1, 2, \"building\", \"answer\")\n",
    "print(tup1 + tup2)"
   ]
  },
  {
   "cell_type": "code",
   "execution_count": 3,
   "id": "5b09a559",
   "metadata": {},
   "outputs": [
    {
     "name": "stdout",
     "output_type": "stream",
     "text": [
      "{1: 'Meredith', 'Avery': 'Jackson', 3: 10, 4: {1: 'Maggie', 2: 'Winston'}, 6: 'Bailey'}\n"
     ]
    }
   ],
   "source": [
    "greys_anatomy = {1: 'Meredith', 'Avery': 'Jackson', 3: 10, 4: {1: 'Maggie', 2: 'Winston'}, 6: 'Bailey'}\n",
    "print(greys_anatomy)\n",
    "\n"
   ]
  },
  {
   "cell_type": "code",
   "execution_count": 5,
   "id": "4e9c4a20",
   "metadata": {},
   "outputs": [
    {
     "name": "stdout",
     "output_type": "stream",
     "text": [
      "accessing an element using a key: \n",
      "Jackson\n",
      "{1: 'Maggie', 2: 'Winston'}\n"
     ]
    }
   ],
   "source": [
    "#accessing an element using its key\n",
    "print(\"accessing an element using a key: \")\n",
    "print(greys_anatomy['Avery'])\n",
    "print(greys_anatomy[4])"
   ]
  },
  {
   "cell_type": "code",
   "execution_count": null,
   "id": "b2196920",
   "metadata": {},
   "outputs": [],
   "source": [
    "greys_anatomy = {\"Levi\", \"Amelia\", \"Koracick\", \"link\"}\n",
    "the_residents = {\"Conrad\", \"Okafor\", \"Nic\", \"Cain\"}\n",
    "#using the |\n",
    "Doctors = greys_anatomy | the_residents \n",
    "print(\"Doctors\", Doctors)"
   ]
  },
  {
   "cell_type": "code",
   "execution_count": null,
   "id": "eecccdff",
   "metadata": {},
   "outputs": [],
   "source": []
  }
 ],
 "metadata": {
  "kernelspec": {
   "display_name": "Python 3",
   "language": "python",
   "name": "python3"
  },
  "language_info": {
   "codemirror_mode": {
    "name": "ipython",
    "version": 3
   },
   "file_extension": ".py",
   "mimetype": "text/x-python",
   "name": "python",
   "nbconvert_exporter": "python",
   "pygments_lexer": "ipython3",
   "version": "3.8.8"
  }
 },
 "nbformat": 4,
 "nbformat_minor": 5
}
