{
 "cells": [
  {
   "cell_type": "code",
   "execution_count": 3,
   "id": "038e8fa9",
   "metadata": {},
   "outputs": [],
   "source": [
    "def BMI(weight, height):\n",
    "    \"Function that calculate body mass index of an individual\"\n",
    "    BMI = weight/(height*height)\n",
    "    return BMI"
   ]
  },
  {
   "cell_type": "code",
   "execution_count": 4,
   "id": "3d216241",
   "metadata": {},
   "outputs": [
    {
     "name": "stdout",
     "output_type": "stream",
     "text": [
      "pls input the following details to calculate your BMI\n",
      "\n",
      "Age\n",
      "25\n",
      "\n",
      "Weight in kg:\n",
      "50\n",
      "\\height in m:\n",
      "1.5\n",
      "\n",
      "Your BMI is 22.22222222222222 and it shows you are healthy\n"
     ]
    }
   ],
   "source": [
    "print(\"pls input the following details to calculate your BMI\")\n",
    "\n",
    "print(\"\\nAge\")\n",
    "Age = int(input())\n",
    "if Age <12 or Age >70:\n",
    "   print(\"\\nSorry not eligible, Age should be between 13 and 69\")\n",
    "else:\n",
    "    print(\"\\nWeight in kg:\")\n",
    "    weight = float(input())\n",
    "\n",
    "    print(\"\\height in m:\")\n",
    "    height = float(input())\n",
    "\n",
    "    result = BMI(weight, height)\n",
    "\n",
    "    \n",
    "#let the user know there BMI and also know if they are healthy or not\n",
    "    if result > 25:\n",
    "      print(f\"\\nYour BMI is {result} and it shows you are overweight\")\n",
    "    \n",
    "    elif result < 18:\n",
    "         print(f\"\\nYour BMI is {result} and it shows you are underweight\")\n",
    "    \n",
    "    else:\n",
    "        print(f\"\\nYour BMI is {result} and it shows you are healthy\")\n",
    "          "
   ]
  },
  {
   "cell_type": "code",
   "execution_count": 1,
   "id": "47f69fae",
   "metadata": {},
   "outputs": [
    {
     "data": {
      "text/plain": [
       "['i', 'intend', 'to', 'flourish', 'in', 'data', 'science', 'field']"
      ]
     },
     "execution_count": 1,
     "metadata": {},
     "output_type": "execute_result"
    }
   ],
   "source": [
    "my_words = \" i intend to flourish in data science field\"\n",
    "my_words.split() #splitting a sentence into words"
   ]
  },
  {
   "cell_type": "code",
   "execution_count": 5,
   "id": "07e05509",
   "metadata": {},
   "outputs": [
    {
     "name": "stdout",
     "output_type": "stream",
     "text": [
      "data\n"
     ]
    }
   ],
   "source": [
    "#storing the spliited words into a variable\n",
    "my_words_written = my_words.split()\n",
    "for i in range(1, len(my_words_written)):\n",
    "    if i == 5:\n",
    "        print(my_words_written[i])"
   ]
  },
  {
   "cell_type": "code",
   "execution_count": null,
   "id": "1202587e",
   "metadata": {},
   "outputs": [],
   "source": [
    "def findFifthword(sentence):\n",
    "    #function that returns the fifth word in a sentence\n",
    "    my_words_written = sentence.split\n",
    "    return findFifthword"
   ]
  }
 ],
 "metadata": {
  "kernelspec": {
   "display_name": "Python 3",
   "language": "python",
   "name": "python3"
  },
  "language_info": {
   "codemirror_mode": {
    "name": "ipython",
    "version": 3
   },
   "file_extension": ".py",
   "mimetype": "text/x-python",
   "name": "python",
   "nbconvert_exporter": "python",
   "pygments_lexer": "ipython3",
   "version": "3.8.8"
  }
 },
 "nbformat": 4,
 "nbformat_minor": 5
}
